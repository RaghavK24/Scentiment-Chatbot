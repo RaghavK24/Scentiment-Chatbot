{
  "cells": [
    {
      "cell_type": "code",
      "execution_count": null,
      "metadata": {
        "colab": {
          "base_uri": "https://localhost:8080/"
        },
        "id": "AYhw8stYAXKI",
        "outputId": "59008354-4a66-41d5-f1ab-dfc3807a75f9"
      },
      "outputs": [],
      "source": [
        "!pip install openai numpy pandas"
      ]
    },
    {
      "cell_type": "code",
      "execution_count": 2,
      "metadata": {
        "id": "VTW7ElZRAcIo"
      },
      "outputs": [],
      "source": [
        "import json\n",
        "import numpy as np\n",
        "import pandas as pd"
      ]
    },
    {
      "cell_type": "code",
      "execution_count": 3,
      "metadata": {
        "id": "qc4sHEpVAcL_"
      },
      "outputs": [],
      "source": [
        "from openai import OpenAI\n",
        "OPENAI_API_KEY= 'YOUR_OPENAI_KEY'\n",
        "client = OpenAI(api_key=OPENAI_API_KEY)"
      ]
    },
    {
      "cell_type": "code",
      "execution_count": null,
      "metadata": {
        "colab": {
          "base_uri": "https://localhost:8080/"
        },
        "id": "1fGb7fV2AcQH",
        "outputId": "dbd08b4b-658b-4b61-dbe9-d493a67a1eff"
      },
      "outputs": [],
      "source": [
        "client.files.create(\n",
        "    file=open('/content/scents_training_data - NM edits.jsonl', 'rb'),\n",
        "    purpose = \"fine-tune\"\n",
        ")"
      ]
    },
    {
      "cell_type": "code",
      "execution_count": null,
      "metadata": {
        "colab": {
          "base_uri": "https://localhost:8080/"
        },
        "id": "AlKe4b5tA-YB",
        "outputId": "bcdca41a-cf87-429f-bc81-14f9c77823b3"
      },
      "outputs": [],
      "source": [
        "client.fine_tuning.jobs.create(\n",
        "  training_file=\"file-Cj23Myxa5YmEipf3gRxdupfr\",\n",
        "  model=\"gpt-3.5-turbo\"\n",
        ")"
      ]
    },
    {
      "cell_type": "code",
      "execution_count": null,
      "metadata": {
        "colab": {
          "base_uri": "https://localhost:8080/"
        },
        "id": "FG_vm1C4A-ag",
        "outputId": "6ea0179e-d9b7-4eb1-9df8-ee189cf8b262"
      },
      "outputs": [],
      "source": [
        "client.fine_tuning.jobs.retrieve('ftjob-fhtTTQfsEmrR2Ado92iJRZSr')"
      ]
    },
    {
      "cell_type": "code",
      "execution_count": 10,
      "metadata": {
        "id": "UivpI7W3CdUp"
      },
      "outputs": [],
      "source": [
        "job_id = 'ftjob-fhtTTQfsEmrR2Ado92iJRZSr'"
      ]
    },
    {
      "cell_type": "code",
      "execution_count": null,
      "metadata": {
        "colab": {
          "base_uri": "https://localhost:8080/"
        },
        "id": "cGSc-5H-Cb3Q",
        "outputId": "30439530-7eec-41a8-8d47-1a7c1f7c0778"
      },
      "outputs": [],
      "source": [
        "import signal\n",
        "import datetime\n",
        "\n",
        "\n",
        "def signal_handler(sig, frame):\n",
        "    status = client.fine_tuning.jobs.retrieve(job_id).status\n",
        "    print(f\"Stream interrupted. Job is still {status}.\")\n",
        "    return\n",
        "\n",
        "\n",
        "print(f\"Streaming events for the fine-tuning job: {job_id}\")\n",
        "\n",
        "signal.signal(signal.SIGINT, signal_handler)\n",
        "\n",
        "events = client.fine_tuning.jobs.list_events(fine_tuning_job_id=job_id)\n",
        "try:\n",
        "    for event in events:\n",
        "        print(\n",
        "            f'{datetime.datetime.fromtimestamp(event.created_at)} {event.message}'\n",
        "        )\n",
        "except Exception:\n",
        "    print(\"Stream interrupted (client disconnected).\")"
      ]
    },
    {
      "cell_type": "code",
      "execution_count": null,
      "metadata": {
        "colab": {
          "base_uri": "https://localhost:8080/"
        },
        "id": "RehF-E3lA-dg",
        "outputId": "9b69676d-c518-48f1-d429-52fd019a594e"
      },
      "outputs": [],
      "source": [
        "import time\n",
        "\n",
        "status = client.fine_tuning.jobs.retrieve('ftjob-fhtTTQfsEmrR2Ado92iJRZSr').status\n",
        "if status not in [\"succeeded\", \"failed\"]:\n",
        "    print(f\"Job not in terminal status: {status}. Waiting.\")\n",
        "    while status not in [\"succeeded\", \"failed\"]:\n",
        "        time.sleep(2)\n",
        "        status = client.fine_tuning.jobs.retrieve('ftjob-fhtTTQfsEmrR2Ado92iJRZSr').status\n",
        "        print(f\"Status: {status}\")\n",
        "else:\n",
        "    print(f\"Finetune job ftjob-fhtTTQfsEmrR2Ado92iJRZSr finished with status: {status}\")\n",
        "print(\"Checking other finetune jobs in the subscription.\")\n",
        "result = client.fine_tuning.jobs.list()\n",
        "print(f\"Found {len(result.data)} finetune jobs.\")"
      ]
    },
    {
      "cell_type": "code",
      "execution_count": null,
      "metadata": {
        "colab": {
          "base_uri": "https://localhost:8080/"
        },
        "id": "W4xCgT8EB8t8",
        "outputId": "3345efb5-d3fd-43b8-aff3-e96ce2267758"
      },
      "outputs": [],
      "source": [
        "fine_tuned_model = result.data[0].fine_tuned_model\n",
        "print(fine_tuned_model)"
      ]
    }
  ],
  "metadata": {
    "colab": {
      "provenance": []
    },
    "kernelspec": {
      "display_name": "Python 3",
      "name": "python3"
    },
    "language_info": {
      "name": "python"
    }
  },
  "nbformat": 4,
  "nbformat_minor": 0
}
